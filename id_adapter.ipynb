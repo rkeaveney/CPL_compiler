{
  "cells": [
    {
      "cell_type": "markdown",
      "metadata": {
        "id": "view-in-github",
        "colab_type": "text"
      },
      "source": [
        "<a href=\"https://colab.research.google.com/github/rkeaveney/CPL_compiler/blob/main/id_adapter.ipynb\" target=\"_parent\"><img src=\"https://colab.research.google.com/assets/colab-badge.svg\" alt=\"Open In Colab\"/></a>"
      ]
    },
    {
      "cell_type": "markdown",
      "source": [
        "Code for downloading data from Waymo Open Dataset & extracting relevant data from .tfrecord files"
      ],
      "metadata": {
        "id": "SB7nRr02iYKB"
      }
    },
    {
      "cell_type": "code",
      "execution_count": null,
      "metadata": {
        "id": "4FvvxOLs15BA"
      },
      "outputs": [],
      "source": [
        "!git clone https://github.com/gdlg/simple-waymo-open-dataset-reader.git\n",
        "!cd simple-waymo-open-dataset-reader/ && python setup.py install\n",
        "!cp -r simple-waymo-open-dataset-reader/simple_waymo_open_dataset_reader/ ."
      ]
    },
    {
      "cell_type": "code",
      "execution_count": null,
      "metadata": {
        "id": "_z4Q53WJpL5k"
      },
      "outputs": [],
      "source": [
        "import os\n",
        "import sys\n",
        "import numpy as np\n",
        "import math\n",
        "import cv2\n",
        "import matplotlib.pyplot as plt\n",
        "import copy\n",
        "import tensorflow as tf\n",
        "from PIL import Image\n",
        "import io\n",
        "from simple_waymo_open_dataset_reader import utils as waymo_utils\n",
        "from simple_waymo_open_dataset_reader import WaymoDataFileReader, dataset_pb2, label_pb2"
      ]
    },
    {
      "cell_type": "code",
      "execution_count": null,
      "metadata": {
        "id": "mQ4CxIcCYOOB",
        "colab": {
          "base_uri": "https://localhost:8080/"
        },
        "outputId": "c4d01d7c-3b9a-41a3-c1cf-94e15214a0ca"
      },
      "outputs": [
        {
          "output_type": "stream",
          "name": "stdout",
          "text": [
            "Mounted at /content/drive\n"
          ]
        }
      ],
      "source": [
        "from google.colab import drive\n",
        "drive.mount('/content/drive')\n",
        "from google.colab import auth\n",
        "auth.authenticate_user()"
      ]
    },
    {
      "cell_type": "code",
      "source": [
        "!mkdir data\n",
        "#!gsutil cp gs://waymo_open_dataset_v_1_4_1/individual_files/training/segment-10017090168044687777_6380_000_6400_000_with_camera_labels.tfrecord data\n",
        "!gsutil cp gs://waymo_open_dataset_v_1_4_1/archived_files/training/training_0000.tar . && tar -xf training_0000.tar && rm training_0000.tar"
      ],
      "metadata": {
        "colab": {
          "base_uri": "https://localhost:8080/"
        },
        "id": "wDBNn_z9pnR6",
        "outputId": "e9869efa-abcd-4b7b-9b17-1c63b1574b32"
      },
      "execution_count": null,
      "outputs": [
        {
          "output_type": "stream",
          "name": "stdout",
          "text": [
            "mkdir: cannot create directory ‘data’: File exists\n",
            "Copying gs://waymo_open_dataset_v_1_4_1/individual_files/training/segment-10017090168044687777_6380_000_6400_000_with_camera_labels.tfrecord...\n",
            "==> NOTE: You are downloading one or more large file(s), which would\n",
            "run significantly faster if you enabled sliced object downloads. This\n",
            "feature is enabled by default but requires that compiled crcmod be\n",
            "installed (see \"gsutil help crcmod\").\n",
            "\n",
            "\\ [1 files][  1.0 GiB/  1.0 GiB]                                                \n",
            "Operation completed over 1 objects/1.0 GiB.                                      \n"
          ]
        }
      ]
    },
    {
      "cell_type": "code",
      "execution_count": null,
      "metadata": {
        "colab": {
          "base_uri": "https://localhost:8080/"
        },
        "id": "DQuC2X3K2uhK",
        "outputId": "c0987e0b-3f70-4396-98a5-b9fb6722ad89"
      },
      "outputs": [
        {
          "output_type": "stream",
          "name": "stdout",
          "text": [
            "Finished segment0000\n"
          ]
        }
      ],
      "source": [
        "n_seg = 0\n",
        "for tfrecord in tfrecords:\n",
        "    datafile = WaymoDataFileReader(tfrecord)\n",
        "    datafile_iter = iter(datafile)\n",
        "\n",
        "    dir = \"segment\" + str(n_seg).zfill(4) + \"/\"\n",
        "    \n",
        "    n_fr = 0\n",
        "\n",
        "    for frame in datafile_iter:\n",
        "        filename = \"s\" + str(n_seg).zfill(4) + \"f\" + str(n_fr).zfill(4)\n",
        "\n",
        "        # labels\n",
        "\n",
        "        with open(dir + \"labels/\" + filename + \".txt\", \"w\") as f:\n",
        "            for obj in frame.camera_labels[0].labels:\n",
        "                dtype = \"\"\n",
        "                if obj.type == 2:\n",
        "                    dtype = \"0\"\n",
        "                elif obj.type == 4:\n",
        "                    dtype = \"1\"\n",
        "                elif obj.type == 1:\n",
        "                    dtype = \"2\"\n",
        "                elif obj.type == 3:\n",
        "                    dtype = \"3\"\n",
        "                cenX = obj.box.center_x / 1920\n",
        "                cenY = (obj.box.center_y+320) / 1920\n",
        "                width = obj.box.width / 1920\n",
        "                length = obj.box.length / 1920\n",
        "\n",
        "                left = \"{:.6f}\".format(cenX - length/2)\n",
        "                top = \"{:.6f}\".format(cenY + width/2)\n",
        "                right = \"{:.6f}\".format(cenX + length/2)\n",
        "                bottom = \"{:.6f}\".format(cenY - width/2)\n",
        "\n",
        "                f.write(dtype+\"  \"+left+\"  \"+top+\"  \"+right+\"  \"+bottom+\"  \"+obj.id+\"\\n\")\n",
        "\n",
        "        # yolo_labels\n",
        "\n",
        "        with open(dir + \"yolo_labels/\" + filename + \".txt\", \"w\") as f:\n",
        "            for obj in frame.camera_labels[0].labels:\n",
        "                dtype = \"\"\n",
        "                if obj.type == 2:\n",
        "                    dtype = \"0\"\n",
        "                elif obj.type == 4:\n",
        "                    dtype = \"1\"\n",
        "                elif obj.type == 1:\n",
        "                    dtype = \"2\"\n",
        "                elif obj.type == 3:\n",
        "                    dtype = \"3\"\n",
        "                cenX = \"{:.6f}\".format(obj.box.center_x / 1920)\n",
        "                cenY = \"{:.6f}\".format((obj.box.center_y+320) / 1920) \n",
        "                width = \"{:.6f}\".format(obj.box.width / 1920)\n",
        "                length = \"{:.6f}\".format(obj.box.length / 1920)\n",
        "\n",
        "                f.write(dtype+\"  \"+cenX+\"  \"+cenY+\"  \"+length+\"  \"+width + \"\\n\")\n",
        "\n",
        "        # images\n",
        "\n",
        "        old_image = waymo_utils.decode_image(frame.images[0])\n",
        "        old_image = Image.fromarray(old_image)\n",
        "        new_image = Image.new(\"RGB\", (1920, 1920))\n",
        "        new_image.paste(old_image, (0, 320))\n",
        "        new_image.save(dir + \"images/\" + filename + '.jpg')\n",
        "\n",
        "        n_fr += 1\n",
        "    print(\"Finished segment\" + str(n_seg).zfill(4))\n",
        "    #os.remove(tfrecord)\n",
        "    n_seg += 1"
      ]
    },
    {
      "cell_type": "code",
      "execution_count": null,
      "metadata": {
        "id": "VnvG5bLRW78l"
      },
      "outputs": [],
      "source": [
        "!for i in {98..99}; do cd /content/segment00$i && tar -czf segment00$i.tar.gz images labels yolo_labels; done\n",
        "!for i in {100..197}; do cd /content/segment0$i && tar -czf segment0$i.tar.gz images labels yolo_labels; done"
      ]
    }
  ],
  "metadata": {
    "colab": {
      "provenance": [],
      "machine_shape": "hm",
      "authorship_tag": "ABX9TyPJOJuMoUjC4eoJ/R8iKXZU",
      "include_colab_link": true
    },
    "kernelspec": {
      "display_name": "Python 3",
      "name": "python3"
    },
    "language_info": {
      "name": "python"
    },
    "accelerator": "GPU",
    "gpuClass": "premium"
  },
  "nbformat": 4,
  "nbformat_minor": 0
}